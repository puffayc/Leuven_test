{
 "cells": [
  {
   "cell_type": "markdown",
   "metadata": {},
   "source": [
    "## Imports and loading data"
   ]
  },
  {
   "cell_type": "code",
   "execution_count": 73,
   "metadata": {},
   "outputs": [],
   "source": [
    "import numpy as np \n",
    "import scipy \n",
    "from scipy.io import loadmat\n",
    "import h5py\n",
    "import pandas as pd"
   ]
  },
  {
   "cell_type": "markdown",
   "metadata": {},
   "source": [
    "Load .mat file and store data into a dictionnary"
   ]
  },
  {
   "cell_type": "code",
   "execution_count": 74,
   "metadata": {},
   "outputs": [],
   "source": [
    "# The data.mat file should be in the same directory\n",
    "filepath = 'data.mat'\n",
    "arrays = {}\n",
    "f = h5py.File(filepath)\n",
    "for k, v in f.items():\n",
    "    arrays[k] = np.array(v)"
   ]
  },
  {
   "cell_type": "markdown",
   "metadata": {},
   "source": [
    "Extract EEG raw data and labels (stimuli)"
   ]
  },
  {
   "cell_type": "code",
   "execution_count": 161,
   "metadata": {},
   "outputs": [
    {
     "name": "stdout",
     "output_type": "stream",
     "text": [
      "EEG raw matrix has shape : (63, 112129)\n",
      "envelope raw vector has shape : (1, 112129)\n",
      "sampling frequency = [128.]\n",
      "-24.534189489164312\n"
     ]
    }
   ],
   "source": [
    "envelope_raw = arrays['env']\n",
    "EEG_raw = arrays['eeg']\n",
    "fs = arrays['fs']\n",
    "print(\"EEG raw matrix has shape : {}\".format(EEG_raw.shape))\n",
    "print(\"envelope raw vector has shape : {}\".format(envelope_raw.shape))\n",
    "print(\"sampling frequency = {}\".format(fs[0]))"
   ]
  },
  {
   "cell_type": "markdown",
   "metadata": {},
   "source": [
    "## DECODING EEG USING LINEAR MODEL"
   ]
  },
  {
   "cell_type": "code",
   "execution_count": 194,
   "metadata": {},
   "outputs": [],
   "source": [
    "def individual_lagged_matrix(channel_id):\n",
    "\n",
    "    #t_max and t_min defined to get 250ms window as defined\n",
    "    t_min = int(-0.2*fs)  # -200 ms \n",
    "    t_max = int(0.05*fs)   # 50 ms \n",
    "\n",
    "    #Convert to panda dataframe (easier to shift)\n",
    "    EEG_raw_df = pd.DataFrame(EEG_raw)\n",
    "\n",
    "    #Shift index and concatenate to form a single-channel matrix (channel : channel_id)\n",
    "    tmp = EEG_raw_df.iloc[channel_id]\n",
    "    tmp_l = tmp\n",
    "\n",
    "    # Towards t_max \n",
    "    for r_shift in range(0, t_max):\n",
    "        if r_shift ==0:\n",
    "            tmp = pd.concat([tmp, tmp.shift(1)], axis=1)\n",
    "        else:\n",
    "            tmp = pd.concat([tmp, tmp.iloc[:,-1:].shift(1)], axis=1)\n",
    "\n",
    "    # Towards t_min \n",
    "    for l_shift in range(0, t_min, -1):\n",
    "        if l_shift ==0:\n",
    "            a = tmp_l.shift(-1)\n",
    "            tmp_l = pd.concat([a, tmp_l], axis=1)\n",
    "        else: \n",
    "            tmp_l = pd.concat([tmp_l.iloc[:,0].shift(-1), tmp_l], axis=1)\n",
    "            #print(tmp_l.loc[0])\n",
    "\n",
    "    # Replace NaN values with 0 (padding)\n",
    "    tmp_l = tmp_l.fillna(value = 0)\n",
    "    tmp = tmp.fillna(value = 0)\n",
    "    \n",
    "    # Last column from tmp_l and first column of tmp are the same \n",
    "    #-> discard last column of tmp_l before concatenating\n",
    "    tmp_l = tmp_l.iloc[:,:-1]\n",
    "\n",
    "    # Concatenate left and right part of the matrix\n",
    "    R_matrix = pd.concat([tmp_l, tmp], axis=1)\n",
    "    \n",
    "    return R_matrix.to_numpy()"
   ]
  },
  {
   "cell_type": "markdown",
   "metadata": {},
   "source": [
    "I should have removed the last column of tmp_l each time (could not do it because of an idx issue) -> one column will be doubled in each individual R_matrix"
   ]
  },
  {
   "cell_type": "code",
   "execution_count": 195,
   "metadata": {},
   "outputs": [
    {
     "name": "stdout",
     "output_type": "stream",
     "text": [
      "(112129, 32)\n"
     ]
    }
   ],
   "source": [
    "#Test the function for channel 1\n",
    "R_matrix = individual_lagged_matrix(1)\n",
    "#print(R_matrix)\n",
    "print(R_matrix.shape)"
   ]
  },
  {
   "cell_type": "markdown",
   "metadata": {},
   "source": [
    "Compute the matrix to group windows together together"
   ]
  },
  {
   "cell_type": "code",
   "execution_count": 196,
   "metadata": {},
   "outputs": [
    {
     "name": "stdout",
     "output_type": "stream",
     "text": [
      "63\n"
     ]
    }
   ],
   "source": [
    "channel_number = EEG_raw.shape[0]\n",
    "print(channel_number)\n",
    "R_matrix_tot = []\n",
    "# Compute R-matrix for each channel and concatenate them along axis=1 \n",
    "for channel_id in range(0, channel_number):\n",
    "    if channel_id == 0:\n",
    "        R_matrix_tot.append(individual_lagged_matrix(channel_id))\n",
    "    else: \n",
    "        R_matrix_tot.append(individual_lagged_matrix(channel_id))\n"
   ]
  },
  {
   "cell_type": "code",
   "execution_count": 198,
   "metadata": {},
   "outputs": [
    {
     "name": "stdout",
     "output_type": "stream",
     "text": [
      "(63, 112129, 32)\n"
     ]
    }
   ],
   "source": [
    "# Now we can access each window of each channel, let's arrange the matrix as required\n",
    "R_matrix_tot = np.array(R_matrix_tot)\n",
    "print(R_matrix_tot.shape)"
   ]
  },
  {
   "cell_type": "code",
   "execution_count": 204,
   "metadata": {},
   "outputs": [
    {
     "name": "stdout",
     "output_type": "stream",
     "text": [
      "(63, 112129)\n",
      "R_matrix has shape : (112129, 2016)\n"
     ]
    }
   ],
   "source": [
    "# Re-order the matrix so that the R-columns of the same sliding window are together\n",
    "R_sliding = []\n",
    "R_matrix_final = []\n",
    "for window_id in range(0,np.shape(R_matrix_tot)[2]):\n",
    "    R_sliding = R_matrix_tot[:, :, window_id]\n",
    "    if window_id == 0:\n",
    "        R_matrix_final = R_sliding\n",
    "        print(np.shape(R_matrix_final))\n",
    "    else: \n",
    "        R_matrix_final = np.concatenate((R_matrix_final, R_sliding), axis = 0)\n",
    "\n",
    "R_matrix_final = R_matrix_final.T\n",
    "print(\"R_matrix has shape : {}\".format(np.shape(R_matrix_final)))\n"
   ]
  },
  {
   "cell_type": "code",
   "execution_count": 205,
   "metadata": {},
   "outputs": [
    {
     "name": "stdout",
     "output_type": "stream",
     "text": [
      "R_matrix has shape : (112129, 2079)\n",
      "[[1.00000000e+00 1.00000000e+00 1.00000000e+00 ... 0.00000000e+00\n",
      "  0.00000000e+00 0.00000000e+00]\n",
      " [1.00000000e+00 1.00000000e+00 1.00000000e+00 ... 0.00000000e+00\n",
      "  0.00000000e+00 0.00000000e+00]\n",
      " [1.00000000e+00 1.00000000e+00 1.00000000e+00 ... 0.00000000e+00\n",
      "  0.00000000e+00 0.00000000e+00]\n",
      " ...\n",
      " [1.00000000e+00 1.00000000e+00 1.00000000e+00 ... 5.49990573e-93\n",
      "  6.79224808e-93 1.32269562e-92]\n",
      " [1.00000000e+00 1.00000000e+00 1.00000000e+00 ... 2.27520729e-94\n",
      "  2.81020447e-94 5.47227318e-94]\n",
      " [1.00000000e+00 1.00000000e+00 1.00000000e+00 ... 8.23243300e-96\n",
      "  1.01695829e-95 1.98023343e-95]]\n"
     ]
    }
   ],
   "source": [
    "# Add constant term\n",
    "constant_matrix = np.ones((R_matrix_final.shape[0],channel_number))\n",
    "#print(constant_matrix)\n",
    "\n",
    "R_matrix_final = np.concatenate([constant_matrix, R_matrix_final], axis = 1)\n",
    "print(\"R_matrix has shape : {}\".format(np.shape(R_matrix_final)))\n",
    "print(R_matrix_final)"
   ]
  },
  {
   "cell_type": "markdown",
   "metadata": {},
   "source": [
    "## Dimensionality reduction + 7-fold CV  + Ridge regression"
   ]
  },
  {
   "cell_type": "code",
   "execution_count": 223,
   "metadata": {},
   "outputs": [
    {
     "name": "stdout",
     "output_type": "stream",
     "text": [
      "(112129, 2079)\n",
      "(1, 112129)\n"
     ]
    }
   ],
   "source": [
    "from sklearn.model_selection import KFold\n",
    "from sklearn.linear_model import RidgeCV\n",
    "print(R_matrix_final.shape)\n",
    "print(envelope_raw.T.shape)"
   ]
  },
  {
   "cell_type": "markdown",
   "metadata": {},
   "source": [
    "Dimensionality reduction (PCA) tested because RidgeCV is taking too much time to run"
   ]
  },
  {
   "cell_type": "code",
   "execution_count": 225,
   "metadata": {},
   "outputs": [
    {
     "name": "stdout",
     "output_type": "stream",
     "text": [
      "[[1.00000000e+00 1.00000000e+00 1.00000000e+00 ... 0.00000000e+00\n",
      "  0.00000000e+00 0.00000000e+00]\n",
      " [1.00000000e+00 1.00000000e+00 1.00000000e+00 ... 0.00000000e+00\n",
      "  0.00000000e+00 0.00000000e+00]\n",
      " [1.00000000e+00 1.00000000e+00 1.00000000e+00 ... 0.00000000e+00\n",
      "  0.00000000e+00 0.00000000e+00]\n",
      " ...\n",
      " [1.00000000e+00 1.00000000e+00 1.00000000e+00 ... 4.01043400e-89\n",
      "  4.95073475e-89 9.64195441e-89]\n",
      " [1.00000000e+00 1.00000000e+00 1.00000000e+00 ... 2.28318311e-90\n",
      "  2.81890024e-90 5.48982969e-90]\n",
      " [1.00000000e+00 1.00000000e+00 1.00000000e+00 ... 1.18138168e-91\n",
      "  1.45877797e-91 2.84087427e-91]]\n",
      "[0.35716671 0.26029564 0.07007756 0.05408029 0.05338964 0.0492827\n",
      " 0.02469332 0.01314135]\n"
     ]
    }
   ],
   "source": [
    "from sklearn.decomposition import PCA\n",
    "pca = PCA(n_components=8)\n",
    "pca.fit(R_matrix_final)\n",
    "#print(R_matrix_final[:-3,:])\n",
    "#print(pca.explained_variance_ratio_)"
   ]
  },
  {
   "cell_type": "markdown",
   "metadata": {},
   "source": [
    "This plot shows that 8 PCs suffice to explain 90% of the variance of the features, we keep 8 ! "
   ]
  },
  {
   "cell_type": "code",
   "execution_count": 226,
   "metadata": {},
   "outputs": [
    {
     "data": {
      "image/png": "[encoded data removed]",
      "text/plain": [
       "<Figure size 432x288 with 1 Axes>"
      ]
     },
     "metadata": {
      "needs_background": "light"
     },
     "output_type": "display_data"
    }
   ],
   "source": [
    "import matplotlib.pyplot as plt\n",
    "plt.plot(np.cumsum(pca.explained_variance_ratio_))\n",
    "plt.xlabel('number of components')\n",
    "plt.ylabel('cumulative explained variance');\n",
    "plt.show()"
   ]
  },
  {
   "cell_type": "code",
   "execution_count": 227,
   "metadata": {},
   "outputs": [
    {
     "name": "stdout",
     "output_type": "stream",
     "text": [
      "Reduced matrix shape : (112129, 8)\n",
      "Raw envelope data : (112129, 1)\n",
      "[[-6.99667418e+02 -1.76053026e+02 -5.55691679e+01 ... -8.51164511e+01\n",
      "  -3.27755785e+01 -2.23132266e+01]\n",
      " [-7.05681439e+02 -9.17128792e+01 -7.66882372e+01 ... -9.28049693e+01\n",
      "  -3.51868099e+01 -1.90217838e+01]\n",
      " [-7.03930371e+02  1.07349087e+00 -9.65940777e+01 ... -9.90774925e+01\n",
      "  -3.73737653e+01 -1.51700248e+01]\n",
      " ...\n",
      " [-1.07986426e-01 -6.41781718e-02  3.28086190e-02 ...  1.79544067e-03\n",
      "  -2.64657565e-03  4.30566779e-03]\n",
      " [-1.07986426e-01 -6.41781718e-02  3.28086190e-02 ...  1.79544067e-03\n",
      "  -2.64657565e-03  4.30566779e-03]\n",
      " [-1.07986426e-01 -6.41781718e-02  3.28086190e-02 ...  1.79544067e-03\n",
      "  -2.64657565e-03  4.30566779e-03]]\n"
     ]
    }
   ],
   "source": [
    "# Apply PCA transformation to R_matrix\n",
    "R_reduced = pca.fit_transform(R_matrix_final)\n",
    "print(\"Reduced matrix shape : {}\".format(R_reduced.shape))\n",
    "print(\"Raw envelope data : {}\".format(envelope_raw.shape))\n",
    "print(R_reduced)"
   ]
  },
  {
   "cell_type": "markdown",
   "metadata": {},
   "source": [
    "Proceed to ridge regression and 7-fold CV"
   ]
  },
  {
   "cell_type": "code",
   "execution_count": 231,
   "metadata": {},
   "outputs": [
    {
     "name": "stdout",
     "output_type": "stream",
     "text": [
      "R^2: 0.003 (0.001)\n",
      "R^2: 0.003 (0.001)\n",
      "R^2: 0.003 (0.001)\n",
      "R^2: 0.003 (0.001)\n",
      "R^2: 0.003 (0.001)\n",
      "R^2: 0.003 (0.001)\n",
      "R^2: 0.003 (0.001)\n"
     ]
    }
   ],
   "source": [
    "from sklearn.model_selection import cross_val_score\n",
    "from sklearn.model_selection import RepeatedKFold\n",
    "from sklearn.linear_model import Ridge\n",
    "from numpy import absolute\n",
    "from numpy import mean\n",
    "from numpy import std\n",
    "\n",
    "envelope_raw = envelope_raw.T\n",
    "scores_tab = []\n",
    "\n",
    "# define model\n",
    "alphas=[1e-3, 1e-2, 1e-1, 1, 1.5, 3, 5]\n",
    "for alpha in alphas:\n",
    "    model = Ridge(alpha=alpha)\n",
    "    # define model evaluation method\n",
    "    #cv_7 = KFold(n_splits=7)\n",
    "    # evaluate model\n",
    "    scores = cross_val_score(model, R_reduced, envelope_raw, scoring='r2', cv=7, n_jobs=-1)\n",
    "    # force scores to be positive\n",
    "    scores = absolute(scores)\n",
    "    scores_tab.append(scores)\n",
    "    print('R^2: %.3f (%.3f)' % (mean(scores), std(scores)))"
   ]
  },
  {
   "cell_type": "markdown",
   "metadata": {},
   "source": [
    "Boxplot of R^2 across folds for different values of alpha"
   ]
  },
  {
   "cell_type": "code",
   "execution_count": 232,
   "metadata": {},
   "outputs": [
    {
     "data": {
      "image/png": "[encoded data removed]",
      "text/plain": [
       "<Figure size 432x288 with 1 Axes>"
      ]
     },
     "metadata": {
      "needs_background": "light"
     },
     "output_type": "display_data"
    }
   ],
   "source": [
    "fig = plt.figure()\n",
    "plt.boxplot(scores_tab, notch = False)\n",
    "plt.title(\"Boxplot of 7-fold R^2 for different values of alpha\")\n",
    "plt.xticks([1, 2 ,3, 4, 5, 6, 7], alphas)\n",
    "plt.xlabel(\"Alpha values\")\n",
    "plt.ylabel(\"R^2\")\n",
    "plt.ylim(0,0.02)\n",
    "plt.show()"
   ]
  },
  {
   "cell_type": "markdown",
   "metadata": {},
   "source": [
    "The correlation R^2 obtained is low :\n",
    "- The correlation between the features (EEG data) and the output (speech envelope) might not be linear\n",
    "- All alpha values are equivalent, which makes me think there might be an issue in the feature matrix that I tried to find without success.  "
   ]
  },
  {
   "cell_type": "markdown",
   "metadata": {},
   "source": [
    "## DECODING EEG USING DEEP LEARNING"
   ]
  },
  {
   "cell_type": "code",
   "execution_count": 241,
   "metadata": {},
   "outputs": [],
   "source": [
    "import tensorflow as tf\n",
    "from tensorflow.keras.models import Model\n",
    "from tensorflow.keras.layers import Conv2D\n",
    "from tensorflow.keras.layers import Dense\n",
    "from tensorflow.keras.layers import ReLU\n",
    "from tensorflow.keras.layers import Input\n",
    "from tensorflow.keras.layers import ZeroPadding2D\n",
    "from tensorflow.keras.layers import AveragePooling2D\n",
    "from tensorflow.keras.layers import MaxPooling2D\n",
    "from tensorflow.keras.layers import Dropout\n",
    "from tensorflow.keras.layers import Flatten\n",
    "from tensorflow.keras.layers import BatchNormalization\n",
    "from tensorflow.keras.utils import plot_model\n",
    "from tensorflow.keras.optimizers import Adam\n",
    "from tensorflow.keras.optimizers import SGD\n",
    "from tensorflow.keras.regularizers import l2\n",
    "from tensorflow.keras.callbacks import LearningRateScheduler, EarlyStopping\n",
    "from tensorflow.keras.layers import Dense, Flatten, Conv3D, MaxPooling3D\n",
    "from sklearn.model_selection import train_test_split\n",
    "import matplotlib.pyplot as plt"
   ]
  },
  {
   "cell_type": "markdown",
   "metadata": {},
   "source": [
    "Model definition "
   ]
  },
  {
   "cell_type": "code",
   "execution_count": 242,
   "metadata": {},
   "outputs": [],
   "source": [
    "def create_model(x_train,y_train,x_val,y_val, cv_scores, nb_units_1, nb_units_2, activation_function_1, activation_function_2, optimizer):\n",
    "    \n",
    "    nb_feature = x_train.shape[1]\n",
    "    nb_unit_output = 1\n",
    "    \n",
    "    #Early stopping \n",
    "    callback = tf.keras.callbacks.EarlyStopping(monitor='loss', patience=5, min_delta = 10e-4)\n",
    " \n",
    "    #Sequential model\n",
    "    model = tf.keras.models.Sequential()\n",
    "    #Specify input shape\n",
    "    model.add(tf.keras.Input(shape=(nb_feature,)))\n",
    "    #Two dense layers\n",
    "    model.add(tf.keras.layers.Dense(nb_units_1, activation = activation_function_1))\n",
    "    model.add(tf.keras.layers.Dense(nb_units_2, activation = activation_function_2))\n",
    "    #Output layer\n",
    "    model.add(tf.keras.layers.Dense(nb_unit_output, activation = 'linear'))\n",
    "    model.output_shape\n",
    "\n",
    "    #Compile model \n",
    "    model.compile(optimizer = 'adam', loss=\"mse\" )\n",
    "\n",
    "    model.summary()\n",
    "\n",
    "    print('compilation ended')\n",
    "    \n",
    "    out = model.fit(x_train,y_train, epochs = 50, batch_size = 64, validation_data = (x_val, y_val), callbacks=[callback])\n",
    "    \n",
    "    # evaluate the model\n",
    "    scores = model.evaluate(x_val , y_val , verbose=0)\n",
    "    print(scores)\n",
    "    cvscores.append(scores * 100)\n",
    "    \n",
    "        \n",
    "    return out, model, cv_scores, scores"
   ]
  },
  {
   "cell_type": "markdown",
   "metadata": {},
   "source": [
    "Check size of the feature matrix and label vector "
   ]
  },
  {
   "cell_type": "code",
   "execution_count": 244,
   "metadata": {},
   "outputs": [
    {
     "name": "stdout",
     "output_type": "stream",
     "text": [
      "X shape : (112129, 2079), y shape (112129, 1)\n"
     ]
    }
   ],
   "source": [
    "X = R_matrix_final\n",
    "y = envelope_raw\n",
    "print(\"X shape : {}, y shape {}\".format(X.shape, y.shape))\n"
   ]
  },
  {
   "cell_type": "markdown",
   "metadata": {},
   "source": [
    "Implement 7-fold CV manually and integrate it into the model "
   ]
  },
  {
   "cell_type": "code",
   "execution_count": 245,
   "metadata": {},
   "outputs": [],
   "source": [
    "def run_model(X, y, CV_splits, nb_units_1, nb_units_2, activation_function_1, activation_function_2, optimizer):\n",
    "\n",
    "    # define 7-fold cross validation test harness\n",
    "    from sklearn.model_selection import KFold\n",
    "    import matplotlib.pyplot as plt\n",
    "    kfold = KFold(n_splits= CV_splits, shuffle=True)\n",
    "    cvscores = []\n",
    "    \n",
    "    #Cross-validation\n",
    "    for train, test in kfold.split(X, y):\n",
    "        out, model, cv_scores, scores = create_model(X[train], y[train], X[test], y[test], cvscores, \n",
    "                                                     nb_units_1, nb_units_2, activation_function_1, \n",
    "                                                     activation_function_2, optimizer)\n",
    "        \n",
    "        print(out.history)\n",
    "        print(out)\n",
    "        \n",
    "        #Plot validation & train losses to detect potential overfitting\n",
    "        fig = plt.figure()\n",
    "        plt.plot(out.history['loss'])\n",
    "        plt.plot(out.history['val_loss'])\n",
    "        plt.title('model loss')\n",
    "        plt.ylabel('loss')\n",
    "        plt.xlabel('epoch')\n",
    "        plt.legend(['train', 'validation'], loc='upper right')\n",
    "        plt.show()\n",
    "\n",
    "    print(cv_scores)\n",
    "    \n",
    "    return out, model, cv_scores, scores"
   ]
  },
  {
   "cell_type": "markdown",
   "metadata": {},
   "source": [
    "To analyze the presence of overfitting I found interesting to show the train/validation loss and accuracy curves : here is an example of these curves with random values for hyperparameters. \n",
    "What we observe is a convergence of both training and validation loss and a decrease for both. This means that the model is learning from the features over the epochs"
   ]
  },
  {
   "cell_type": "code",
   "execution_count": 246,
   "metadata": {},
   "outputs": [
    {
     "name": "stdout",
     "output_type": "stream",
     "text": [
      "Model: \"sequential_15\"\n",
      "_________________________________________________________________\n",
      "Layer (type)                 Output Shape              Param #   \n",
      "=================================================================\n",
      "dense_42 (Dense)             (None, 1000)              2080000   \n",
      "_________________________________________________________________\n",
      "dense_43 (Dense)             (None, 1000)              1001000   \n",
      "_________________________________________________________________\n",
      "dense_44 (Dense)             (None, 1)                 1001      \n",
      "=================================================================\n",
      "Total params: 3,082,001\n",
      "Trainable params: 3,082,001\n",
      "Non-trainable params: 0\n",
      "_________________________________________________________________\n",
      "compilation ended\n",
      "Train on 96110 samples, validate on 16019 samples\n",
      "Epoch 1/50\n",
      " 2304/96110 [..............................] - ETA: 3:09 - loss: 465.5746"
     ]
    },
    {
     "ename": "KeyboardInterrupt",
     "evalue": "",
     "output_type": "error",
     "traceback": [
      "\u001b[0;31m---------------------------------------------------------------------------\u001b[0m",
      "\u001b[0;31mKeyboardInterrupt\u001b[0m                         Traceback (most recent call last)",
      "\u001b[0;32m<ipython-input-246-c1dae7f69e43>\u001b[0m in \u001b[0;36m<module>\u001b[0;34m\u001b[0m\n\u001b[1;32m      1\u001b[0m \u001b[0;31m# Test with random parameters\u001b[0m\u001b[0;34m\u001b[0m\u001b[0;34m\u001b[0m\u001b[0;34m\u001b[0m\u001b[0m\n\u001b[1;32m      2\u001b[0m out, model, cv_scores, scores = run_model(X, y, CV_splits = 7, nb_units_1 = 1000, nb_units_2 = 1000, activation_function_1 = 'relu',\n\u001b[0;32m----> 3\u001b[0;31m           activation_function_2 = 'relu', optimizer = 'adam')\n\u001b[0m\u001b[1;32m      4\u001b[0m \u001b[0mprint\u001b[0m\u001b[0;34m(\u001b[0m\u001b[0;34m\"%.2f%% (+/- %.2f%%)\"\u001b[0m \u001b[0;34m%\u001b[0m \u001b[0;34m(\u001b[0m\u001b[0mnumpy\u001b[0m\u001b[0;34m.\u001b[0m\u001b[0mmean\u001b[0m\u001b[0;34m(\u001b[0m\u001b[0mcvscores\u001b[0m\u001b[0;34m)\u001b[0m\u001b[0;34m,\u001b[0m \u001b[0mnumpy\u001b[0m\u001b[0;34m.\u001b[0m\u001b[0mstd\u001b[0m\u001b[0;34m(\u001b[0m\u001b[0mcvscores\u001b[0m\u001b[0;34m)\u001b[0m\u001b[0;34m)\u001b[0m\u001b[0;34m)\u001b[0m\u001b[0;34m\u001b[0m\u001b[0;34m\u001b[0m\u001b[0m\n",
      "\u001b[0;32m<ipython-input-245-032eeb994051>\u001b[0m in \u001b[0;36mrun_model\u001b[0;34m(X, y, CV_splits, nb_units_1, nb_units_2, activation_function_1, activation_function_2, optimizer)\u001b[0m\n\u001b[1;32m     10\u001b[0m         out, model, cv_scores, scores = create_model(X[train], y[train], X[test], y[test], cvscores, \n\u001b[1;32m     11\u001b[0m                                                      \u001b[0mnb_units_1\u001b[0m\u001b[0;34m,\u001b[0m \u001b[0mnb_units_2\u001b[0m\u001b[0;34m,\u001b[0m \u001b[0mactivation_function_1\u001b[0m\u001b[0;34m,\u001b[0m\u001b[0;34m\u001b[0m\u001b[0;34m\u001b[0m\u001b[0m\n\u001b[0;32m---> 12\u001b[0;31m                                                      activation_function_2, optimizer)\n\u001b[0m\u001b[1;32m     13\u001b[0m \u001b[0;34m\u001b[0m\u001b[0m\n\u001b[1;32m     14\u001b[0m         \u001b[0mprint\u001b[0m\u001b[0;34m(\u001b[0m\u001b[0mout\u001b[0m\u001b[0;34m.\u001b[0m\u001b[0mhistory\u001b[0m\u001b[0;34m)\u001b[0m\u001b[0;34m\u001b[0m\u001b[0;34m\u001b[0m\u001b[0m\n",
      "\u001b[0;32m<ipython-input-242-f078c4978912>\u001b[0m in \u001b[0;36mcreate_model\u001b[0;34m(x_train, y_train, x_val, y_val, cv_scores, nb_units_1, nb_units_2, activation_function_1, activation_function_2, optimizer)\u001b[0m\n\u001b[1;32m     25\u001b[0m     \u001b[0mprint\u001b[0m\u001b[0;34m(\u001b[0m\u001b[0;34m'compilation ended'\u001b[0m\u001b[0;34m)\u001b[0m\u001b[0;34m\u001b[0m\u001b[0;34m\u001b[0m\u001b[0m\n\u001b[1;32m     26\u001b[0m \u001b[0;34m\u001b[0m\u001b[0m\n\u001b[0;32m---> 27\u001b[0;31m     \u001b[0mout\u001b[0m \u001b[0;34m=\u001b[0m \u001b[0mmodel\u001b[0m\u001b[0;34m.\u001b[0m\u001b[0mfit\u001b[0m\u001b[0;34m(\u001b[0m\u001b[0mx_train\u001b[0m\u001b[0;34m,\u001b[0m\u001b[0my_train\u001b[0m\u001b[0;34m,\u001b[0m \u001b[0mepochs\u001b[0m \u001b[0;34m=\u001b[0m \u001b[0;36m50\u001b[0m\u001b[0;34m,\u001b[0m \u001b[0mbatch_size\u001b[0m \u001b[0;34m=\u001b[0m \u001b[0;36m64\u001b[0m\u001b[0;34m,\u001b[0m \u001b[0mvalidation_data\u001b[0m \u001b[0;34m=\u001b[0m \u001b[0;34m(\u001b[0m\u001b[0mx_val\u001b[0m\u001b[0;34m,\u001b[0m \u001b[0my_val\u001b[0m\u001b[0;34m)\u001b[0m\u001b[0;34m,\u001b[0m \u001b[0mcallbacks\u001b[0m\u001b[0;34m=\u001b[0m\u001b[0;34m[\u001b[0m\u001b[0mcallback\u001b[0m\u001b[0;34m]\u001b[0m\u001b[0;34m)\u001b[0m\u001b[0;34m\u001b[0m\u001b[0;34m\u001b[0m\u001b[0m\n\u001b[0m\u001b[1;32m     28\u001b[0m \u001b[0;34m\u001b[0m\u001b[0m\n\u001b[1;32m     29\u001b[0m     \u001b[0;31m# evaluate the model\u001b[0m\u001b[0;34m\u001b[0m\u001b[0;34m\u001b[0m\u001b[0;34m\u001b[0m\u001b[0m\n",
      "\u001b[0;32m~/anaconda3/lib/python3.7/site-packages/tensorflow/python/keras/engine/training.py\u001b[0m in \u001b[0;36mfit\u001b[0;34m(self, x, y, batch_size, epochs, verbose, callbacks, validation_split, validation_data, shuffle, class_weight, sample_weight, initial_epoch, steps_per_epoch, validation_steps, validation_freq, max_queue_size, workers, use_multiprocessing, **kwargs)\u001b[0m\n\u001b[1;32m    778\u001b[0m           \u001b[0mvalidation_steps\u001b[0m\u001b[0;34m=\u001b[0m\u001b[0mvalidation_steps\u001b[0m\u001b[0;34m,\u001b[0m\u001b[0;34m\u001b[0m\u001b[0;34m\u001b[0m\u001b[0m\n\u001b[1;32m    779\u001b[0m           \u001b[0mvalidation_freq\u001b[0m\u001b[0;34m=\u001b[0m\u001b[0mvalidation_freq\u001b[0m\u001b[0;34m,\u001b[0m\u001b[0;34m\u001b[0m\u001b[0;34m\u001b[0m\u001b[0m\n\u001b[0;32m--> 780\u001b[0;31m           steps_name='steps_per_epoch')\n\u001b[0m\u001b[1;32m    781\u001b[0m \u001b[0;34m\u001b[0m\u001b[0m\n\u001b[1;32m    782\u001b[0m   def evaluate(self,\n",
      "\u001b[0;32m~/anaconda3/lib/python3.7/site-packages/tensorflow/python/keras/engine/training_arrays.py\u001b[0m in \u001b[0;36mmodel_iteration\u001b[0;34m(model, inputs, targets, sample_weights, batch_size, epochs, verbose, callbacks, val_inputs, val_targets, val_sample_weights, shuffle, initial_epoch, steps_per_epoch, validation_steps, validation_freq, mode, validation_in_fit, prepared_feed_values_from_dataset, steps_name, **kwargs)\u001b[0m\n\u001b[1;32m    361\u001b[0m \u001b[0;34m\u001b[0m\u001b[0m\n\u001b[1;32m    362\u001b[0m         \u001b[0;31m# Get outputs.\u001b[0m\u001b[0;34m\u001b[0m\u001b[0;34m\u001b[0m\u001b[0;34m\u001b[0m\u001b[0m\n\u001b[0;32m--> 363\u001b[0;31m         \u001b[0mbatch_outs\u001b[0m \u001b[0;34m=\u001b[0m \u001b[0mf\u001b[0m\u001b[0;34m(\u001b[0m\u001b[0mins_batch\u001b[0m\u001b[0;34m)\u001b[0m\u001b[0;34m\u001b[0m\u001b[0;34m\u001b[0m\u001b[0m\n\u001b[0m\u001b[1;32m    364\u001b[0m         \u001b[0;32mif\u001b[0m \u001b[0;32mnot\u001b[0m \u001b[0misinstance\u001b[0m\u001b[0;34m(\u001b[0m\u001b[0mbatch_outs\u001b[0m\u001b[0;34m,\u001b[0m \u001b[0mlist\u001b[0m\u001b[0;34m)\u001b[0m\u001b[0;34m:\u001b[0m\u001b[0;34m\u001b[0m\u001b[0;34m\u001b[0m\u001b[0m\n\u001b[1;32m    365\u001b[0m           \u001b[0mbatch_outs\u001b[0m \u001b[0;34m=\u001b[0m \u001b[0;34m[\u001b[0m\u001b[0mbatch_outs\u001b[0m\u001b[0;34m]\u001b[0m\u001b[0;34m\u001b[0m\u001b[0;34m\u001b[0m\u001b[0m\n",
      "\u001b[0;32m~/anaconda3/lib/python3.7/site-packages/tensorflow/python/keras/backend.py\u001b[0m in \u001b[0;36m__call__\u001b[0;34m(self, inputs)\u001b[0m\n\u001b[1;32m   3290\u001b[0m \u001b[0;34m\u001b[0m\u001b[0m\n\u001b[1;32m   3291\u001b[0m     fetched = self._callable_fn(*array_vals,\n\u001b[0;32m-> 3292\u001b[0;31m                                 run_metadata=self.run_metadata)\n\u001b[0m\u001b[1;32m   3293\u001b[0m     \u001b[0mself\u001b[0m\u001b[0;34m.\u001b[0m\u001b[0m_call_fetch_callbacks\u001b[0m\u001b[0;34m(\u001b[0m\u001b[0mfetched\u001b[0m\u001b[0;34m[\u001b[0m\u001b[0;34m-\u001b[0m\u001b[0mlen\u001b[0m\u001b[0;34m(\u001b[0m\u001b[0mself\u001b[0m\u001b[0;34m.\u001b[0m\u001b[0m_fetches\u001b[0m\u001b[0;34m)\u001b[0m\u001b[0;34m:\u001b[0m\u001b[0;34m]\u001b[0m\u001b[0;34m)\u001b[0m\u001b[0;34m\u001b[0m\u001b[0;34m\u001b[0m\u001b[0m\n\u001b[1;32m   3294\u001b[0m     output_structure = nest.pack_sequence_as(\n",
      "\u001b[0;32m~/anaconda3/lib/python3.7/site-packages/tensorflow/python/client/session.py\u001b[0m in \u001b[0;36m__call__\u001b[0;34m(self, *args, **kwargs)\u001b[0m\n\u001b[1;32m   1456\u001b[0m         ret = tf_session.TF_SessionRunCallable(self._session._session,\n\u001b[1;32m   1457\u001b[0m                                                \u001b[0mself\u001b[0m\u001b[0;34m.\u001b[0m\u001b[0m_handle\u001b[0m\u001b[0;34m,\u001b[0m \u001b[0margs\u001b[0m\u001b[0;34m,\u001b[0m\u001b[0;34m\u001b[0m\u001b[0;34m\u001b[0m\u001b[0m\n\u001b[0;32m-> 1458\u001b[0;31m                                                run_metadata_ptr)\n\u001b[0m\u001b[1;32m   1459\u001b[0m         \u001b[0;32mif\u001b[0m \u001b[0mrun_metadata\u001b[0m\u001b[0;34m:\u001b[0m\u001b[0;34m\u001b[0m\u001b[0;34m\u001b[0m\u001b[0m\n\u001b[1;32m   1460\u001b[0m           \u001b[0mproto_data\u001b[0m \u001b[0;34m=\u001b[0m \u001b[0mtf_session\u001b[0m\u001b[0;34m.\u001b[0m\u001b[0mTF_GetBuffer\u001b[0m\u001b[0;34m(\u001b[0m\u001b[0mrun_metadata_ptr\u001b[0m\u001b[0;34m)\u001b[0m\u001b[0;34m\u001b[0m\u001b[0;34m\u001b[0m\u001b[0m\n",
      "\u001b[0;31mKeyboardInterrupt\u001b[0m: "
     ]
    }
   ],
   "source": [
    "# Test with random parameters\n",
    "out, model, cv_scores, scores = run_model(X, y, CV_splits = 7, nb_units_1 = 1000, nb_units_2 = 1000, activation_function_1 = 'relu',\n",
    "          activation_function_2 = 'relu', optimizer = 'adam')\n",
    "print(\"%.2f%% (+/- %.2f%%)\" % (numpy.mean(cvscores), numpy.std(cvscores)))"
   ]
  },
  {
   "cell_type": "markdown",
   "metadata": {},
   "source": [
    "Gridsearch analysis to optimize hyperparameters such as : \n",
    "- Number of units per layer\n",
    "- Type of non-linearity to be used in the hidden layers.\n",
    "- Optimization algorithm"
   ]
  },
  {
   "cell_type": "code",
   "execution_count": 247,
   "metadata": {},
   "outputs": [
    {
     "name": "stdout",
     "output_type": "stream",
     "text": [
      "Model: \"sequential_16\"\n",
      "_________________________________________________________________\n",
      "Layer (type)                 Output Shape              Param #   \n",
      "=================================================================\n",
      "dense_45 (Dense)             (None, 100)               208000    \n",
      "_________________________________________________________________\n",
      "dense_46 (Dense)             (None, 100)               10100     \n",
      "_________________________________________________________________\n",
      "dense_47 (Dense)             (None, 1)                 101       \n",
      "=================================================================\n",
      "Total params: 218,201\n",
      "Trainable params: 218,201\n",
      "Non-trainable params: 0\n",
      "_________________________________________________________________\n",
      "compilation ended\n",
      "Train on 96110 samples, validate on 16019 samples\n",
      "Epoch 1/50\n",
      "96110/96110 [==============================] - 20s 211us/sample - loss: 1.3584 - val_loss: 0.0806\n",
      "Epoch 2/50\n",
      "96110/96110 [==============================] - 8s 88us/sample - loss: 0.0822 - val_loss: 0.8632\n",
      "Epoch 3/50\n",
      "96110/96110 [==============================] - 9s 92us/sample - loss: 0.7214 - val_loss: 0.0223\n",
      "Epoch 4/50\n",
      "96110/96110 [==============================] - 25s 257us/sample - loss: 0.0262 - val_loss: 0.0143\n",
      "Epoch 5/50\n",
      "96110/96110 [==============================] - 21s 213us/sample - loss: 0.4983 - val_loss: 0.0170\n",
      "Epoch 6/50\n",
      "96110/96110 [==============================] - 12s 120us/sample - loss: 0.0080 - val_loss: 0.0034\n",
      "Epoch 7/50\n",
      "96110/96110 [==============================] - 13s 131us/sample - loss: 0.2790 - val_loss: 0.0199\n",
      "Epoch 8/50\n",
      "96110/96110 [==============================] - 13s 133us/sample - loss: 0.0116 - val_loss: 0.0047\n",
      "Epoch 9/50\n",
      "96110/96110 [==============================] - 10s 103us/sample - loss: 0.0051 - val_loss: 0.0117\n",
      "Epoch 10/50\n",
      "96110/96110 [==============================] - 10s 103us/sample - loss: 0.0080 - val_loss: 0.0029\n",
      "Epoch 11/50\n",
      "96110/96110 [==============================] - 15s 159us/sample - loss: 0.0045 - val_loss: 3.1494e-04\n",
      "Epoch 12/50\n",
      "96110/96110 [==============================] - 7s 68us/sample - loss: 0.0940 - val_loss: 0.0014\n",
      "Epoch 13/50\n",
      "96110/96110 [==============================] - 6s 66us/sample - loss: 0.0011 - val_loss: 4.9473e-04\n",
      "Epoch 14/50\n",
      "96110/96110 [==============================] - 9s 95us/sample - loss: 9.5860e-04 - val_loss: 4.2731e-04\n",
      "Epoch 15/50\n",
      "96110/96110 [==============================] - 8s 85us/sample - loss: 9.6650e-04 - val_loss: 3.3318e-04\n",
      "Epoch 16/50\n",
      "96110/96110 [==============================] - 10s 104us/sample - loss: 2.7079e-04 - val_loss: 4.0566e-04\n",
      "Epoch 17/50\n",
      "96110/96110 [==============================] - 9s 94us/sample - loss: 0.0023 - val_loss: 1.6701e-04\n",
      "Epoch 18/50\n",
      "96110/96110 [==============================] - 10s 109us/sample - loss: 1.7444e-04 - val_loss: 1.5655e-04\n",
      "0.00015655282999982377\n",
      "{'loss': [1.3584251138369159, 0.08221191949448567, 0.7214497635113302, 0.026194143673456797, 0.49825357913100965, 0.00797752188947918, 0.27904085457024974, 0.011638374184725834, 0.005080514021633338, 0.008039540412660676, 0.004450052633730572, 0.09395178083974111, 0.0010863528089176202, 0.0009586015258340466, 0.0009665029045891983, 0.00027078955897864875, 0.0022881308402948977, 0.00017443565943533418], 'val_loss': [0.08058314503766645, 0.8631905880981382, 0.022266293209720765, 0.014314816616561279, 0.0169500978644378, 0.00339257208123125, 0.01993328123235691, 0.004693097008825464, 0.011708033194681612, 0.0029022030275779806, 0.00031494081395174914, 0.0013986639425357219, 0.0004947310372825675, 0.0004273069501592623, 0.00033317516359041845, 0.0004056598447432337, 0.00016700804771213363, 0.00015655282796527264]}\n",
      "<tensorflow.python.keras.callbacks.History object at 0x126d49b70>\n"
     ]
    },
    {
     "data": {
      "image/png": "[encoded data removed]",
      "text/plain": [
       "<Figure size 432x288 with 1 Axes>"
      ]
     },
     "metadata": {
      "needs_background": "light"
     },
     "output_type": "display_data"
    },
    {
     "name": "stdout",
     "output_type": "stream",
     "text": [
      "Model: \"sequential_17\"\n",
      "_________________________________________________________________\n",
      "Layer (type)                 Output Shape              Param #   \n",
      "=================================================================\n",
      "dense_48 (Dense)             (None, 100)               208000    \n",
      "_________________________________________________________________\n",
      "dense_49 (Dense)             (None, 100)               10100     \n",
      "_________________________________________________________________\n",
      "dense_50 (Dense)             (None, 1)                 101       \n",
      "=================================================================\n",
      "Total params: 218,201\n",
      "Trainable params: 218,201\n",
      "Non-trainable params: 0\n",
      "_________________________________________________________________\n",
      "compilation ended\n",
      "Train on 96110 samples, validate on 16019 samples\n",
      "Epoch 1/50\n",
      "96110/96110 [==============================] - 14s 146us/sample - loss: 1.1992 - val_loss: 0.0628\n",
      "Epoch 2/50\n",
      "96110/96110 [==============================] - 12s 124us/sample - loss: 1.7524 - val_loss: 2.2738\n",
      "Epoch 3/50\n",
      "96110/96110 [==============================] - 14s 142us/sample - loss: 0.2630 - val_loss: 0.0691\n",
      "Epoch 4/50\n",
      "96110/96110 [==============================] - 13s 133us/sample - loss: 0.0465 - val_loss: 0.0228\n",
      "Epoch 5/50\n",
      "96110/96110 [==============================] - 13s 131us/sample - loss: 0.0212 - val_loss: 0.0102\n",
      "Epoch 6/50\n",
      "96110/96110 [==============================] - 17s 178us/sample - loss: 0.0078 - val_loss: 0.0049\n",
      "Epoch 7/50\n",
      "96110/96110 [==============================] - 12s 123us/sample - loss: 0.0168 - val_loss: 0.0031\n",
      "Epoch 8/50\n",
      "96110/96110 [==============================] - 11s 116us/sample - loss: 0.0013 - val_loss: 0.0011\n",
      "Epoch 9/50\n",
      "96110/96110 [==============================] - 10s 102us/sample - loss: 6.8607e-04 - val_loss: 0.0018\n",
      "Epoch 10/50\n",
      "96110/96110 [==============================] - 11s 113us/sample - loss: 6.0516e-04 - val_loss: 4.5967e-04\n",
      "Epoch 11/50\n",
      "96110/96110 [==============================] - 9s 93us/sample - loss: 0.0032 - val_loss: 1.5358e-04\n",
      "Epoch 12/50\n",
      "96110/96110 [==============================] - 11s 115us/sample - loss: 1.6608e-04 - val_loss: 1.5015e-04\n",
      "Epoch 13/50\n",
      "96110/96110 [==============================] - 8s 80us/sample - loss: 1.6372e-04 - val_loss: 1.7732e-04\n",
      "Epoch 14/50\n",
      "96110/96110 [==============================] - 8s 86us/sample - loss: 1.6151e-04 - val_loss: 1.5121e-04\n",
      "Epoch 15/50\n",
      "96110/96110 [==============================] - 8s 81us/sample - loss: 1.4755e-04 - val_loss: 1.4910e-04\n",
      "Epoch 16/50\n",
      "96110/96110 [==============================] - 9s 96us/sample - loss: 1.4510e-04 - val_loss: 1.4854e-04\n",
      "Epoch 17/50\n",
      "96110/96110 [==============================] - 11s 118us/sample - loss: 1.4288e-04 - val_loss: 1.4746e-04\n",
      "0.0001474628305478552\n",
      "{'loss': [1.1991755833139797, 1.7523938352307424, 0.26298147470221017, 0.046534095657655074, 0.021182386933446734, 0.007849556826141874, 0.01681556105008557, 0.0013127921938132787, 0.0006860702463411452, 0.0006051573531065322, 0.00317537149469212, 0.00016607525688978832, 0.00016372280675551964, 0.00016150548148508254, 0.00014754698661567056, 0.00014510374999858008, 0.00014287706671456637], 'val_loss': [0.06280061185994364, 2.2738103859433076, 0.06913552640086294, 0.022794231408707576, 0.010178652700519082, 0.004932050404799143, 0.003136613542081829, 0.0010501430539024293, 0.0018205389238771198, 0.0004596705525046289, 0.00015358056451025793, 0.00015014830689272747, 0.00017732203035697417, 0.00015120594987016875, 0.00014909821658866474, 0.00014854402570321955, 0.00014746283079981288]}\n",
      "<tensorflow.python.keras.callbacks.History object at 0x1408117b8>\n"
     ]
    },
    {
     "data": {
      "image/png": "[encoded data removed]",
      "text/plain": [
       "<Figure size 432x288 with 1 Axes>"
      ]
     },
     "metadata": {
      "needs_background": "light"
     },
     "output_type": "display_data"
    },
    {
     "name": "stdout",
     "output_type": "stream",
     "text": [
      "Model: \"sequential_18\"\n",
      "_________________________________________________________________\n",
      "Layer (type)                 Output Shape              Param #   \n",
      "=================================================================\n",
      "dense_51 (Dense)             (None, 100)               208000    \n",
      "_________________________________________________________________\n",
      "dense_52 (Dense)             (None, 100)               10100     \n",
      "_________________________________________________________________\n",
      "dense_53 (Dense)             (None, 1)                 101       \n",
      "=================================================================\n",
      "Total params: 218,201\n",
      "Trainable params: 218,201\n",
      "Non-trainable params: 0\n",
      "_________________________________________________________________\n",
      "compilation ended\n",
      "Train on 96110 samples, validate on 16019 samples\n",
      "Epoch 1/50\n",
      "96110/96110 [==============================] - 11s 110us/sample - loss: 1.3073 - val_loss: 0.0497\n",
      "Epoch 2/50\n",
      "96110/96110 [==============================] - 10s 104us/sample - loss: 0.0695 - val_loss: 0.4525\n",
      "Epoch 3/50\n",
      "96110/96110 [==============================] - 10s 103us/sample - loss: 0.6206 - val_loss: 0.0159\n",
      "Epoch 4/50\n",
      "96110/96110 [==============================] - 10s 100us/sample - loss: 0.0269 - val_loss: 0.0026\n",
      "Epoch 5/50\n",
      "96110/96110 [==============================] - 11s 115us/sample - loss: 0.0019 - val_loss: 0.0026\n",
      "Epoch 6/50\n",
      "96110/96110 [==============================] - 10s 107us/sample - loss: 0.0050 - val_loss: 9.2761e-04\n",
      "Epoch 7/50\n",
      "96110/96110 [==============================] - 10s 104us/sample - loss: 0.1295 - val_loss: 4.5306e-04\n",
      "Epoch 8/50\n",
      "96110/96110 [==============================] - 14s 150us/sample - loss: 0.0035 - val_loss: 0.0011\n",
      "Epoch 9/50\n",
      "96110/96110 [==============================] - 12s 120us/sample - loss: 3.9900e-04 - val_loss: 7.1216e-04\n",
      "Epoch 10/50\n",
      "96110/96110 [==============================] - 11s 109us/sample - loss: 0.0011 - val_loss: 2.2735e-04\n",
      "Epoch 11/50\n",
      "96110/96110 [==============================] - 12s 123us/sample - loss: 0.2808 - val_loss: 9.3864e-04\n",
      "Epoch 12/50\n",
      "96110/96110 [==============================] - 18s 184us/sample - loss: 5.0961e-04 - val_loss: 3.6072e-04\n",
      "Epoch 13/50\n",
      "96110/96110 [==============================] - 9s 95us/sample - loss: 0.0059 - val_loss: 2.5064e-04\n",
      "Epoch 14/50\n",
      "96110/96110 [==============================] - 11s 114us/sample - loss: 7.7946e-04 - val_loss: 0.0015\n",
      "0.0015289081045788792\n",
      "{'loss': [1.3072877985427716, 0.06952764341045078, 0.6205754087088046, 0.02686357136716268, 0.0018798175571904387, 0.0049831513685749205, 0.12948352831160664, 0.0034594726046517643, 0.0003989958481201496, 0.0011484928051918566, 0.28076932330866017, 0.0005096138301205785, 0.005913299093597969, 0.0007794588117429723], 'val_loss': [0.04973552541052538, 0.4524563496047634, 0.015908333917667997, 0.0026133406195819574, 0.0025631760263504946, 0.0009276092939883998, 0.00045306407708830886, 0.0010961360975542884, 0.0007121631526453634, 0.00022734611021868508, 0.0009386365239655134, 0.00036072045576529934, 0.00025063512571966274, 0.001528908411370025]}\n",
      "<tensorflow.python.keras.callbacks.History object at 0x12397fe48>\n"
     ]
    },
    {
     "data": {
      "image/png": "[encoded data removed]",
      "text/plain": [
       "<Figure size 432x288 with 1 Axes>"
      ]
     },
     "metadata": {
      "needs_background": "light"
     },
     "output_type": "display_data"
    },
    {
     "name": "stdout",
     "output_type": "stream",
     "text": [
      "Model: \"sequential_19\"\n",
      "_________________________________________________________________\n",
      "Layer (type)                 Output Shape              Param #   \n",
      "=================================================================\n",
      "dense_54 (Dense)             (None, 100)               208000    \n",
      "_________________________________________________________________\n",
      "dense_55 (Dense)             (None, 100)               10100     \n",
      "_________________________________________________________________\n",
      "dense_56 (Dense)             (None, 1)                 101       \n",
      "=================================================================\n",
      "Total params: 218,201\n",
      "Trainable params: 218,201\n",
      "Non-trainable params: 0\n",
      "_________________________________________________________________\n",
      "compilation ended\n",
      "Train on 96111 samples, validate on 16018 samples\n",
      "Epoch 1/50\n",
      "96111/96111 [==============================] - 13s 134us/sample - loss: 1.7846 - val_loss: 0.1259\n",
      "Epoch 2/50\n",
      "96111/96111 [==============================] - 11s 118us/sample - loss: 0.2282 - val_loss: 0.0444\n",
      "Epoch 3/50\n",
      "96111/96111 [==============================] - 15s 154us/sample - loss: 0.1076 - val_loss: 0.0037\n",
      "Epoch 4/50\n",
      "96111/96111 [==============================] - 11s 116us/sample - loss: 1.1691 - val_loss: 0.0650\n",
      "Epoch 5/50\n",
      "96111/96111 [==============================] - 9s 96us/sample - loss: 0.0436 - val_loss: 0.0258\n",
      "Epoch 6/50\n",
      "96111/96111 [==============================] - 10s 107us/sample - loss: 0.0160 - val_loss: 0.0105\n",
      "Epoch 7/50\n",
      "96111/96111 [==============================] - 10s 106us/sample - loss: 0.0363 - val_loss: 0.0018\n",
      "Epoch 8/50\n",
      "96111/96111 [==============================] - 13s 136us/sample - loss: 0.2933 - val_loss: 0.0781\n",
      "Epoch 9/50\n",
      "96111/96111 [==============================] - 15s 156us/sample - loss: 0.0165 - val_loss: 0.0070\n",
      "Epoch 10/50\n",
      "96111/96111 [==============================] - 14s 145us/sample - loss: 0.0050 - val_loss: 0.0028\n",
      "Epoch 11/50\n",
      "96111/96111 [==============================] - 10s 101us/sample - loss: 0.0039 - val_loss: 8.0271e-04\n",
      "Epoch 12/50\n",
      "96111/96111 [==============================] - 11s 117us/sample - loss: 0.0019 - val_loss: 4.8651e-04\n",
      "Epoch 13/50\n",
      "96111/96111 [==============================] - 14s 141us/sample - loss: 5.7730e-04 - val_loss: 4.5013e-04\n",
      "Epoch 14/50\n",
      "96111/96111 [==============================] - 13s 136us/sample - loss: 4.8254e-04 - val_loss: 2.5739e-04\n",
      "Epoch 15/50\n",
      "96111/96111 [==============================] - 9s 95us/sample - loss: 2.3075e-04 - val_loss: 1.5683e-04\n",
      "Epoch 16/50\n",
      "96111/96111 [==============================] - 12s 125us/sample - loss: 0.0074 - val_loss: 1.6154e-04\n",
      "Epoch 17/50\n",
      "96111/96111 [==============================] - 12s 124us/sample - loss: 1.6803e-04 - val_loss: 1.5677e-04\n",
      "Epoch 18/50\n",
      "96111/96111 [==============================] - 15s 157us/sample - loss: 1.7831e-04 - val_loss: 1.8595e-04\n",
      "0.00018595496492960478\n",
      "{'loss': [1.7846370378384917, 0.22822984767488244, 0.10759621042217385, 1.1691000085770993, 0.04358042885601819, 0.01600765705271746, 0.03627297481765328, 0.2933007045330334, 0.016533830470062908, 0.004960530374185082, 0.0038792947985425118, 0.001941010984551078, 0.0005773009378434493, 0.00048254193958433364, 0.00023075275831046995, 0.0073707716701247325, 0.0001680279501164172, 0.00017831150998987163], 'val_loss': [0.12593035096457753, 0.04435728222619194, 0.0036823269114270854, 0.06496447436199874, 0.025755236167886282, 0.010511552479607899, 0.0018244469147324395, 0.07812070392210813, 0.007033669977079212, 0.0027700308379507276, 0.0008027071309550531, 0.00048650662970395087, 0.00045013147667694866, 0.0002573908543791438, 0.00015682818628540027, 0.00016154016860541435, 0.00015677492177872473, 0.00018595496351535415]}\n",
      "<tensorflow.python.keras.callbacks.History object at 0x1272bce80>\n"
     ]
    },
    {
     "data": {
      "image/png": "[encoded data removed]",
      "text/plain": [
       "<Figure size 432x288 with 1 Axes>"
      ]
     },
     "metadata": {
      "needs_background": "light"
     },
     "output_type": "display_data"
    },
    {
     "name": "stdout",
     "output_type": "stream",
     "text": [
      "Model: \"sequential_20\"\n",
      "_________________________________________________________________\n",
      "Layer (type)                 Output Shape              Param #   \n",
      "=================================================================\n",
      "dense_57 (Dense)             (None, 100)               208000    \n",
      "_________________________________________________________________\n",
      "dense_58 (Dense)             (None, 100)               10100     \n",
      "_________________________________________________________________\n",
      "dense_59 (Dense)             (None, 1)                 101       \n",
      "=================================================================\n",
      "Total params: 218,201\n",
      "Trainable params: 218,201\n",
      "Non-trainable params: 0\n",
      "_________________________________________________________________\n",
      "compilation ended\n",
      "Train on 96111 samples, validate on 16018 samples\n",
      "Epoch 1/50\n",
      "96111/96111 [==============================] - 10s 99us/sample - loss: 1.5368 - val_loss: 0.0599\n",
      "Epoch 2/50\n",
      "96111/96111 [==============================] - 9s 91us/sample - loss: 2.0437 - val_loss: 0.2029\n",
      "Epoch 3/50\n",
      "96111/96111 [==============================] - 10s 101us/sample - loss: 0.0876 - val_loss: 0.0426\n",
      "Epoch 4/50\n",
      "96111/96111 [==============================] - 15s 155us/sample - loss: 0.0307 - val_loss: 0.0145\n",
      "Epoch 5/50\n",
      "96111/96111 [==============================] - 11s 111us/sample - loss: 0.0158 - val_loss: 0.0040\n",
      "Epoch 6/50\n",
      "96111/96111 [==============================] - 9s 94us/sample - loss: 0.0083 - val_loss: 0.0016\n",
      "Epoch 7/50\n",
      "96111/96111 [==============================] - 8s 88us/sample - loss: 0.0730 - val_loss: 3.9169e-04\n",
      "Epoch 8/50\n",
      "96111/96111 [==============================] - 8s 88us/sample - loss: 7.4708e-04 - val_loss: 4.8830e-04\n",
      "Epoch 9/50\n",
      "96111/96111 [==============================] - 11s 111us/sample - loss: 0.0037 - val_loss: 0.0551\n",
      "Epoch 10/50\n",
      "96111/96111 [==============================] - 10s 99us/sample - loss: 0.1576 - val_loss: 4.8305e-04\n",
      "Epoch 11/50\n",
      "96111/96111 [==============================] - 10s 104us/sample - loss: 0.0070 - val_loss: 2.4765e-04\n",
      "Epoch 12/50\n",
      "96111/96111 [==============================] - 12s 123us/sample - loss: 8.7801e-04 - val_loss: 4.4223e-04\n",
      "Epoch 13/50\n",
      "96111/96111 [==============================] - 17s 172us/sample - loss: 0.0501 - val_loss: 3.4280e-04\n",
      "0.0003427988267747831\n",
      "{'loss': [1.5368220814824674, 2.0436524647523098, 0.08759265695523412, 0.030652247853231007, 0.01584320561199184, 0.008274527011473498, 0.07304232828964413, 0.0007470842695070614, 0.003673824373137274, 0.15759410348106506, 0.006989889205678097, 0.0008780103947438863, 0.050128085740482546], 'val_loss': [0.05986395728120734, 0.20287305303080755, 0.04262419615184149, 0.01445670221847461, 0.004000116650168379, 0.0016114121707748654, 0.0003916874546224219, 0.0004883015764436947, 0.0551147797548573, 0.0004830515992357982, 0.0002476540823071825, 0.00044223282316337744, 0.00034279878979006576]}\n",
      "<tensorflow.python.keras.callbacks.History object at 0x142294710>\n"
     ]
    },
    {
     "data": {
      "image/png": "[encoded data removed]",
      "text/plain": [
       "<Figure size 432x288 with 1 Axes>"
      ]
     },
     "metadata": {
      "needs_background": "light"
     },
     "output_type": "display_data"
    },
    {
     "name": "stdout",
     "output_type": "stream",
     "text": [
      "Model: \"sequential_21\"\n",
      "_________________________________________________________________\n",
      "Layer (type)                 Output Shape              Param #   \n",
      "=================================================================\n",
      "dense_60 (Dense)             (None, 100)               208000    \n",
      "_________________________________________________________________\n",
      "dense_61 (Dense)             (None, 100)               10100     \n",
      "_________________________________________________________________\n",
      "dense_62 (Dense)             (None, 1)                 101       \n",
      "=================================================================\n",
      "Total params: 218,201\n",
      "Trainable params: 218,201\n",
      "Non-trainable params: 0\n",
      "_________________________________________________________________\n",
      "compilation ended\n",
      "Train on 96111 samples, validate on 16018 samples\n",
      "Epoch 1/50\n",
      "96111/96111 [==============================] - 11s 115us/sample - loss: 1.4790 - val_loss: 0.0507\n",
      "Epoch 2/50\n",
      "96111/96111 [==============================] - 14s 147us/sample - loss: 0.0354 - val_loss: 0.0204\n",
      "Epoch 3/50\n",
      "96111/96111 [==============================] - 9s 94us/sample - loss: 3.3631 - val_loss: 0.3698\n",
      "Epoch 4/50\n",
      "96111/96111 [==============================] - 7s 71us/sample - loss: 0.1648 - val_loss: 0.0665\n",
      "Epoch 5/50\n",
      "96111/96111 [==============================] - 11s 110us/sample - loss: 0.0515 - val_loss: 0.0374\n",
      "Epoch 6/50\n",
      "96111/96111 [==============================] - 13s 134us/sample - loss: 0.0252 - val_loss: 0.0072\n",
      "Epoch 7/50\n",
      "96111/96111 [==============================] - 13s 137us/sample - loss: 0.0061 - val_loss: 0.0085\n",
      "Epoch 8/50\n",
      "96111/96111 [==============================] - 12s 125us/sample - loss: 0.0044 - val_loss: 0.0046\n",
      "Epoch 9/50\n",
      "96111/96111 [==============================] - 13s 131us/sample - loss: 0.2297 - val_loss: 26.6281\n",
      "Epoch 10/50\n",
      "96111/96111 [==============================] - 10s 99us/sample - loss: 0.4784 - val_loss: 0.0095\n",
      "Epoch 11/50\n",
      "96111/96111 [==============================] - 8s 88us/sample - loss: 0.0253 - val_loss: 0.0028\n",
      "Epoch 12/50\n",
      "96111/96111 [==============================] - 15s 154us/sample - loss: 0.0071 - val_loss: 0.0043\n",
      "Epoch 13/50\n",
      "96111/96111 [==============================] - 15s 153us/sample - loss: 0.0036 - val_loss: 2.5935e-04\n",
      "0.00025934722780795517\n",
      "{'loss': [1.4790387142297794, 0.03541340204583783, 3.363088472422267, 0.1647659907222003, 0.05149660664235704, 0.025156550297020165, 0.006050683491445484, 0.004384031442772492, 0.229738645858012, 0.47836622873962387, 0.025346097389953526, 0.007070933876000816, 0.003642427379140324], 'val_loss': [0.050739543800616564, 0.020431460407785238, 0.36976347586265856, 0.06645691449320083, 0.03739389590849247, 0.007176704789125911, 0.008484205016641898, 0.004644253276101756, 26.628065087343067, 0.009496976339342792, 0.002826528702075896, 0.0043093921185664965, 0.00025934711136129106]}\n",
      "<tensorflow.python.keras.callbacks.History object at 0x144278748>\n"
     ]
    },
    {
     "data": {
      "image/png": "[encoded data removed]",
      "text/plain": [
       "<Figure size 432x288 with 1 Axes>"
      ]
     },
     "metadata": {
      "needs_background": "light"
     },
     "output_type": "display_data"
    },
    {
     "name": "stdout",
     "output_type": "stream",
     "text": [
      "Model: \"sequential_22\"\n",
      "_________________________________________________________________\n",
      "Layer (type)                 Output Shape              Param #   \n",
      "=================================================================\n",
      "dense_63 (Dense)             (None, 100)               208000    \n",
      "_________________________________________________________________\n",
      "dense_64 (Dense)             (None, 100)               10100     \n",
      "_________________________________________________________________\n",
      "dense_65 (Dense)             (None, 1)                 101       \n",
      "=================================================================\n",
      "Total params: 218,201\n",
      "Trainable params: 218,201\n",
      "Non-trainable params: 0\n",
      "_________________________________________________________________\n",
      "compilation ended\n",
      "Train on 96111 samples, validate on 16018 samples\n",
      "Epoch 1/50\n",
      "96111/96111 [==============================] - 12s 125us/sample - loss: 1.2489 - val_loss: 0.0469\n",
      "Epoch 2/50\n",
      "96111/96111 [==============================] - 13s 140us/sample - loss: 0.9597 - val_loss: 0.0460\n",
      "Epoch 3/50\n",
      "96111/96111 [==============================] - 11s 118us/sample - loss: 0.0212 - val_loss: 0.0133\n",
      "Epoch 4/50\n",
      "96111/96111 [==============================] - 11s 117us/sample - loss: 0.0134 - val_loss: 0.0038\n",
      "Epoch 5/50\n",
      "96111/96111 [==============================] - 12s 122us/sample - loss: 0.0086 - val_loss: 0.0017\n",
      "Epoch 6/50\n",
      "96111/96111 [==============================] - 12s 125us/sample - loss: 1.2295 - val_loss: 0.0272\n",
      "Epoch 7/50\n",
      "96111/96111 [==============================] - 18s 187us/sample - loss: 0.0094 - val_loss: 0.0037\n",
      "Epoch 8/50\n",
      "96111/96111 [==============================] - 18s 186us/sample - loss: 0.0069 - val_loss: 0.0050\n",
      "Epoch 9/50\n",
      "96111/96111 [==============================] - 16s 171us/sample - loss: 0.0071 - val_loss: 0.0014\n",
      "Epoch 10/50\n",
      "96111/96111 [==============================] - 13s 133us/sample - loss: 0.0014 - val_loss: 3.1906e-04\n",
      "Epoch 11/50\n",
      "96111/96111 [==============================] - 13s 135us/sample - loss: 0.2505 - val_loss: 0.0029\n",
      "Epoch 12/50\n",
      "96111/96111 [==============================] - 13s 138us/sample - loss: 8.4353e-04 - val_loss: 4.0199e-04\n",
      "Epoch 13/50\n",
      "66176/96111 [===================>..........] - ETA: 3s - loss: 0.0047"
     ]
    },
    {
     "ename": "KeyboardInterrupt",
     "evalue": "",
     "output_type": "error",
     "traceback": [
      "\u001b[0;31m---------------------------------------------------------------------------\u001b[0m",
      "\u001b[0;31mKeyboardInterrupt\u001b[0m                         Traceback (most recent call last)",
      "\u001b[0;32m<ipython-input-247-c7ae7c908552>\u001b[0m in \u001b[0;36m<module>\u001b[0;34m\u001b[0m\n\u001b[1;32m     12\u001b[0m             \u001b[0;32mfor\u001b[0m \u001b[0mAF_2\u001b[0m \u001b[0;32min\u001b[0m \u001b[0mactivation_function_2\u001b[0m\u001b[0;34m:\u001b[0m\u001b[0;34m\u001b[0m\u001b[0;34m\u001b[0m\u001b[0m\n\u001b[1;32m     13\u001b[0m                 \u001b[0;32mfor\u001b[0m \u001b[0mopt\u001b[0m \u001b[0;32min\u001b[0m \u001b[0mopt_\u001b[0m\u001b[0;34m:\u001b[0m\u001b[0;34m\u001b[0m\u001b[0;34m\u001b[0m\u001b[0m\n\u001b[0;32m---> 14\u001b[0;31m                     \u001b[0mout\u001b[0m\u001b[0;34m,\u001b[0m \u001b[0mmodel\u001b[0m\u001b[0;34m,\u001b[0m \u001b[0mcv_scores\u001b[0m\u001b[0;34m,\u001b[0m \u001b[0mscores\u001b[0m \u001b[0;34m=\u001b[0m \u001b[0mrun_model\u001b[0m\u001b[0;34m(\u001b[0m\u001b[0mX\u001b[0m\u001b[0;34m,\u001b[0m \u001b[0my\u001b[0m\u001b[0;34m,\u001b[0m \u001b[0mCV_splits\u001b[0m \u001b[0;34m=\u001b[0m \u001b[0;36m7\u001b[0m\u001b[0;34m,\u001b[0m \u001b[0mnb_units_1\u001b[0m \u001b[0;34m=\u001b[0m \u001b[0munits_1\u001b[0m\u001b[0;34m,\u001b[0m \u001b[0mnb_units_2\u001b[0m \u001b[0;34m=\u001b[0m \u001b[0munits_2\u001b[0m\u001b[0;34m,\u001b[0m \u001b[0mactivation_function_1\u001b[0m \u001b[0;34m=\u001b[0m \u001b[0mAF_1\u001b[0m\u001b[0;34m,\u001b[0m \u001b[0mactivation_function_2\u001b[0m \u001b[0;34m=\u001b[0m \u001b[0mAF_2\u001b[0m\u001b[0;34m,\u001b[0m \u001b[0moptimizer\u001b[0m \u001b[0;34m=\u001b[0m \u001b[0;34m'adam'\u001b[0m\u001b[0;34m)\u001b[0m\u001b[0;34m\u001b[0m\u001b[0;34m\u001b[0m\u001b[0m\n\u001b[0m",
      "\u001b[0;32m<ipython-input-245-032eeb994051>\u001b[0m in \u001b[0;36mrun_model\u001b[0;34m(X, y, CV_splits, nb_units_1, nb_units_2, activation_function_1, activation_function_2, optimizer)\u001b[0m\n\u001b[1;32m     10\u001b[0m         out, model, cv_scores, scores = create_model(X[train], y[train], X[test], y[test], cvscores, \n\u001b[1;32m     11\u001b[0m                                                      \u001b[0mnb_units_1\u001b[0m\u001b[0;34m,\u001b[0m \u001b[0mnb_units_2\u001b[0m\u001b[0;34m,\u001b[0m \u001b[0mactivation_function_1\u001b[0m\u001b[0;34m,\u001b[0m\u001b[0;34m\u001b[0m\u001b[0;34m\u001b[0m\u001b[0m\n\u001b[0;32m---> 12\u001b[0;31m                                                      activation_function_2, optimizer)\n\u001b[0m\u001b[1;32m     13\u001b[0m \u001b[0;34m\u001b[0m\u001b[0m\n\u001b[1;32m     14\u001b[0m         \u001b[0mprint\u001b[0m\u001b[0;34m(\u001b[0m\u001b[0mout\u001b[0m\u001b[0;34m.\u001b[0m\u001b[0mhistory\u001b[0m\u001b[0;34m)\u001b[0m\u001b[0;34m\u001b[0m\u001b[0;34m\u001b[0m\u001b[0m\n",
      "\u001b[0;32m<ipython-input-242-f078c4978912>\u001b[0m in \u001b[0;36mcreate_model\u001b[0;34m(x_train, y_train, x_val, y_val, cv_scores, nb_units_1, nb_units_2, activation_function_1, activation_function_2, optimizer)\u001b[0m\n\u001b[1;32m     25\u001b[0m     \u001b[0mprint\u001b[0m\u001b[0;34m(\u001b[0m\u001b[0;34m'compilation ended'\u001b[0m\u001b[0;34m)\u001b[0m\u001b[0;34m\u001b[0m\u001b[0;34m\u001b[0m\u001b[0m\n\u001b[1;32m     26\u001b[0m \u001b[0;34m\u001b[0m\u001b[0m\n\u001b[0;32m---> 27\u001b[0;31m     \u001b[0mout\u001b[0m \u001b[0;34m=\u001b[0m \u001b[0mmodel\u001b[0m\u001b[0;34m.\u001b[0m\u001b[0mfit\u001b[0m\u001b[0;34m(\u001b[0m\u001b[0mx_train\u001b[0m\u001b[0;34m,\u001b[0m\u001b[0my_train\u001b[0m\u001b[0;34m,\u001b[0m \u001b[0mepochs\u001b[0m \u001b[0;34m=\u001b[0m \u001b[0;36m50\u001b[0m\u001b[0;34m,\u001b[0m \u001b[0mbatch_size\u001b[0m \u001b[0;34m=\u001b[0m \u001b[0;36m64\u001b[0m\u001b[0;34m,\u001b[0m \u001b[0mvalidation_data\u001b[0m \u001b[0;34m=\u001b[0m \u001b[0;34m(\u001b[0m\u001b[0mx_val\u001b[0m\u001b[0;34m,\u001b[0m \u001b[0my_val\u001b[0m\u001b[0;34m)\u001b[0m\u001b[0;34m,\u001b[0m \u001b[0mcallbacks\u001b[0m\u001b[0;34m=\u001b[0m\u001b[0;34m[\u001b[0m\u001b[0mcallback\u001b[0m\u001b[0;34m]\u001b[0m\u001b[0;34m)\u001b[0m\u001b[0;34m\u001b[0m\u001b[0;34m\u001b[0m\u001b[0m\n\u001b[0m\u001b[1;32m     28\u001b[0m \u001b[0;34m\u001b[0m\u001b[0m\n\u001b[1;32m     29\u001b[0m     \u001b[0;31m# evaluate the model\u001b[0m\u001b[0;34m\u001b[0m\u001b[0;34m\u001b[0m\u001b[0;34m\u001b[0m\u001b[0m\n",
      "\u001b[0;32m~/anaconda3/lib/python3.7/site-packages/tensorflow/python/keras/engine/training.py\u001b[0m in \u001b[0;36mfit\u001b[0;34m(self, x, y, batch_size, epochs, verbose, callbacks, validation_split, validation_data, shuffle, class_weight, sample_weight, initial_epoch, steps_per_epoch, validation_steps, validation_freq, max_queue_size, workers, use_multiprocessing, **kwargs)\u001b[0m\n\u001b[1;32m    778\u001b[0m           \u001b[0mvalidation_steps\u001b[0m\u001b[0;34m=\u001b[0m\u001b[0mvalidation_steps\u001b[0m\u001b[0;34m,\u001b[0m\u001b[0;34m\u001b[0m\u001b[0;34m\u001b[0m\u001b[0m\n\u001b[1;32m    779\u001b[0m           \u001b[0mvalidation_freq\u001b[0m\u001b[0;34m=\u001b[0m\u001b[0mvalidation_freq\u001b[0m\u001b[0;34m,\u001b[0m\u001b[0;34m\u001b[0m\u001b[0;34m\u001b[0m\u001b[0m\n\u001b[0;32m--> 780\u001b[0;31m           steps_name='steps_per_epoch')\n\u001b[0m\u001b[1;32m    781\u001b[0m \u001b[0;34m\u001b[0m\u001b[0m\n\u001b[1;32m    782\u001b[0m   def evaluate(self,\n",
      "\u001b[0;32m~/anaconda3/lib/python3.7/site-packages/tensorflow/python/keras/engine/training_arrays.py\u001b[0m in \u001b[0;36mmodel_iteration\u001b[0;34m(model, inputs, targets, sample_weights, batch_size, epochs, verbose, callbacks, val_inputs, val_targets, val_sample_weights, shuffle, initial_epoch, steps_per_epoch, validation_steps, validation_freq, mode, validation_in_fit, prepared_feed_values_from_dataset, steps_name, **kwargs)\u001b[0m\n\u001b[1;32m    361\u001b[0m \u001b[0;34m\u001b[0m\u001b[0m\n\u001b[1;32m    362\u001b[0m         \u001b[0;31m# Get outputs.\u001b[0m\u001b[0;34m\u001b[0m\u001b[0;34m\u001b[0m\u001b[0;34m\u001b[0m\u001b[0m\n\u001b[0;32m--> 363\u001b[0;31m         \u001b[0mbatch_outs\u001b[0m \u001b[0;34m=\u001b[0m \u001b[0mf\u001b[0m\u001b[0;34m(\u001b[0m\u001b[0mins_batch\u001b[0m\u001b[0;34m)\u001b[0m\u001b[0;34m\u001b[0m\u001b[0;34m\u001b[0m\u001b[0m\n\u001b[0m\u001b[1;32m    364\u001b[0m         \u001b[0;32mif\u001b[0m \u001b[0;32mnot\u001b[0m \u001b[0misinstance\u001b[0m\u001b[0;34m(\u001b[0m\u001b[0mbatch_outs\u001b[0m\u001b[0;34m,\u001b[0m \u001b[0mlist\u001b[0m\u001b[0;34m)\u001b[0m\u001b[0;34m:\u001b[0m\u001b[0;34m\u001b[0m\u001b[0;34m\u001b[0m\u001b[0m\n\u001b[1;32m    365\u001b[0m           \u001b[0mbatch_outs\u001b[0m \u001b[0;34m=\u001b[0m \u001b[0;34m[\u001b[0m\u001b[0mbatch_outs\u001b[0m\u001b[0;34m]\u001b[0m\u001b[0;34m\u001b[0m\u001b[0;34m\u001b[0m\u001b[0m\n",
      "\u001b[0;32m~/anaconda3/lib/python3.7/site-packages/tensorflow/python/keras/backend.py\u001b[0m in \u001b[0;36m__call__\u001b[0;34m(self, inputs)\u001b[0m\n\u001b[1;32m   3290\u001b[0m \u001b[0;34m\u001b[0m\u001b[0m\n\u001b[1;32m   3291\u001b[0m     fetched = self._callable_fn(*array_vals,\n\u001b[0;32m-> 3292\u001b[0;31m                                 run_metadata=self.run_metadata)\n\u001b[0m\u001b[1;32m   3293\u001b[0m     \u001b[0mself\u001b[0m\u001b[0;34m.\u001b[0m\u001b[0m_call_fetch_callbacks\u001b[0m\u001b[0;34m(\u001b[0m\u001b[0mfetched\u001b[0m\u001b[0;34m[\u001b[0m\u001b[0;34m-\u001b[0m\u001b[0mlen\u001b[0m\u001b[0;34m(\u001b[0m\u001b[0mself\u001b[0m\u001b[0;34m.\u001b[0m\u001b[0m_fetches\u001b[0m\u001b[0;34m)\u001b[0m\u001b[0;34m:\u001b[0m\u001b[0;34m]\u001b[0m\u001b[0;34m)\u001b[0m\u001b[0;34m\u001b[0m\u001b[0;34m\u001b[0m\u001b[0m\n\u001b[1;32m   3294\u001b[0m     output_structure = nest.pack_sequence_as(\n",
      "\u001b[0;32m~/anaconda3/lib/python3.7/site-packages/tensorflow/python/client/session.py\u001b[0m in \u001b[0;36m__call__\u001b[0;34m(self, *args, **kwargs)\u001b[0m\n\u001b[1;32m   1456\u001b[0m         ret = tf_session.TF_SessionRunCallable(self._session._session,\n\u001b[1;32m   1457\u001b[0m                                                \u001b[0mself\u001b[0m\u001b[0;34m.\u001b[0m\u001b[0m_handle\u001b[0m\u001b[0;34m,\u001b[0m \u001b[0margs\u001b[0m\u001b[0;34m,\u001b[0m\u001b[0;34m\u001b[0m\u001b[0;34m\u001b[0m\u001b[0m\n\u001b[0;32m-> 1458\u001b[0;31m                                                run_metadata_ptr)\n\u001b[0m\u001b[1;32m   1459\u001b[0m         \u001b[0;32mif\u001b[0m \u001b[0mrun_metadata\u001b[0m\u001b[0;34m:\u001b[0m\u001b[0;34m\u001b[0m\u001b[0;34m\u001b[0m\u001b[0m\n\u001b[1;32m   1460\u001b[0m           \u001b[0mproto_data\u001b[0m \u001b[0;34m=\u001b[0m \u001b[0mtf_session\u001b[0m\u001b[0;34m.\u001b[0m\u001b[0mTF_GetBuffer\u001b[0m\u001b[0;34m(\u001b[0m\u001b[0mrun_metadata_ptr\u001b[0m\u001b[0;34m)\u001b[0m\u001b[0;34m\u001b[0m\u001b[0;34m\u001b[0m\u001b[0m\n",
      "\u001b[0;31mKeyboardInterrupt\u001b[0m: "
     ]
    }
   ],
   "source": [
    "from sklearn.model_selection import GridSearchCV\n",
    "\n",
    "# Iterate over every parameter's combination \n",
    "nb_units_1_tab = [100, 1000]\n",
    "nb_units_2_tab = [100, 1000]\n",
    "activation_function_1 = ['relu', 'tanh', 'sigmoid']\n",
    "activation_function_2 = ['relu', 'tanh', 'sigmoid']\n",
    "opt_ = ['adam', 'SGD']\n",
    "\n",
    "for units_1 in nb_units_1_tab:\n",
    "    for units_2 in nb_units_2_tab:\n",
    "        for AF_1 in activation_function_1:\n",
    "            for AF_2 in activation_function_2:\n",
    "                for opt in opt_:\n",
    "                    out, model, cv_scores, scores = run_model(X, y, CV_splits = 7, nb_units_1 = units_1, nb_units_2 = units_2, activation_function_1 = AF_1, activation_function_2 = AF_2, optimizer = 'adam')\n"
   ]
  },
  {
   "cell_type": "markdown",
   "metadata": {},
   "source": [
    "To improve the model we could : \n",
    "- Add dropout layers after each Dense layer to reduce overfitting\n",
    "- Increase the number of parameters (e.g make the network deeper) to avoid underfitting\n"
   ]
  },
  {
   "cell_type": "code",
   "execution_count": null,
   "metadata": {},
   "outputs": [],
   "source": []
  }
 ],
 "metadata": {
  "kernelspec": {
   "display_name": "Python 3",
   "language": "python",
   "name": "python3"
  },
  "language_info": {
   "codemirror_mode": {
    "name": "ipython",
    "version": 3
   },
   "file_extension": ".py",
   "mimetype": "text/x-python",
   "name": "python",
   "nbconvert_exporter": "python",
   "pygments_lexer": "ipython3",
   "version": "3.7.3"
  }
 },
 "nbformat": 4,
 "nbformat_minor": 2
}
